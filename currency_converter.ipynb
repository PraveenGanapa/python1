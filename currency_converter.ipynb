{
  "nbformat": 4,
  "nbformat_minor": 0,
  "metadata": {
    "colab": {
      "provenance": []
    },
    "kernelspec": {
      "name": "python3",
      "display_name": "Python 3"
    },
    "language_info": {
      "name": "python"
    }
  },
  "cells": [
    {
      "cell_type": "code",
      "execution_count": null,
      "metadata": {
        "id": "wCkun13uLlfh"
      },
      "outputs": [],
      "source": [
        "def display_menu():\n",
        "  print(\"1. Convert USD to Euro(EUR)\")\n",
        "  print(\"2. Convert USD to British Pound Sterling(GBP)\")\n",
        "  print(\"3. Convert USD to Japenese Yen(JPY)\")\n",
        "  print(\"4. Convert USD to Canadian Dollar(CAD)\")\n",
        "  print(\"5. Convert USD to India(INR)\")\n",
        "  print(\"6. Exit\")\n",
        "\n"
      ]
    },
    {
      "cell_type": "code",
      "source": [
        "def USD_to_EUR(value):\n",
        "  return value*0.94\n",
        "def USD_to_GBP(value):\n",
        "  return value*0.79\n",
        "def USD_to_JPY(value):\n",
        "  return value*113\n",
        "def USD_to_CAD(value):\n",
        "  return value*1.33\n",
        "def USD_to_INR(value):\n",
        "  return value*83.24"
      ],
      "metadata": {
        "id": "snERf-4QLsn2"
      },
      "execution_count": null,
      "outputs": []
    },
    {
      "cell_type": "code",
      "source": [
        "while True:\n",
        "  display_menu()\n",
        "  choice=int(input())\n",
        "  if choice==6:\n",
        "    print(\"Thank you!\")\n",
        "    break\n",
        "  else:\n",
        "    amount=float(input(\"Enter an amount in US dollars: \"))\n",
        "    if choice==1:\n",
        "      print(amount,\"USD\",USD_to_EUR(amount),\"Euro\")\n",
        "    elif choice==2:\n",
        "      print(amount,\"USD\",USD_to_GBP(amount),\"GBP\")\n",
        "    elif choice==3:\n",
        "      print(amount,\"USD\",USD_to_JPY(amount),\"JPY\")\n",
        "    elif choice==4:\n",
        "      print(amount,\"USD\",USD_to_CAD(amount),\"CAD\")\n",
        "    elif choice==5:\n",
        "        print(amount,\"USD\",USD_to_INR(amount),\"INR\")"
      ],
      "metadata": {
        "colab": {
          "base_uri": "https://localhost:8080/"
        },
        "id": "YUjICAP6LxZw",
        "outputId": "0826b9f1-400c-413c-f58d-c969725309a9"
      },
      "execution_count": null,
      "outputs": [
        {
          "output_type": "stream",
          "name": "stdout",
          "text": [
            "1. Convert USD to Euro(EUR)\n",
            "2. Convert USD to British Pound Sterling(GBP)\n",
            "3. Convert USD to Japenese Yen(JPY)\n",
            "4. Convert USD to Canadian Dollar(CAD)\n",
            "5. Convert USD to India(INR)\n",
            "6. Exit\n",
            "5\n",
            "Enter an amount in US dollars: 20\n",
            "20.0 USD 1664.8 INR\n",
            "1. Convert USD to Euro(EUR)\n",
            "2. Convert USD to British Pound Sterling(GBP)\n",
            "3. Convert USD to Japenese Yen(JPY)\n",
            "4. Convert USD to Canadian Dollar(CAD)\n",
            "5. Convert USD to India(INR)\n",
            "6. Exit\n",
            "6\n",
            "Thank you!\n"
          ]
        }
      ]
    }
  ]
}